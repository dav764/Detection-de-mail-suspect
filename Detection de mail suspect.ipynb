{
  "cells": [
    {
      "cell_type": "markdown",
      "metadata": {
        "id": "P89WG_itL1JV"
      },
      "source": [
        "#NLP2"
      ]
    },
    {
      "cell_type": "code",
      "execution_count": 1,
      "metadata": {
        "id": "VIy5sXOpQ2q8"
      },
      "outputs": [],
      "source": [
        "# Importation des bibliothèues nécessaires\n",
        "import pandas as pd\n",
        "import re\n",
        "from sklearn.model_selection import train_test_split\n",
        "from sklearn.feature_extraction.text import TfidfVectorizer\n",
        "from sklearn.linear_model import LogisticRegression\n",
        "from sklearn.metrics import classification_report, confusion_matrix, roc_auc_score\n",
        "import seaborn as sns\n",
        "import matplotlib.pyplot as plt"
      ]
    },
    {
      "cell_type": "code",
      "execution_count": 2,
      "metadata": {
        "id": "Ch1ayDJAMVNc"
      },
      "outputs": [],
      "source": [
        "# 1. Charger les données\n",
        "data = pd.read_csv('/content/tweets_suspect.csv')"
      ]
    },
    {
      "cell_type": "code",
      "execution_count": 3,
      "metadata": {
        "colab": {
          "base_uri": "https://localhost:8080/",
          "height": 424
        },
        "id": "AAHalmrWCPaL",
        "outputId": "14405b15-9015-4fdb-f450-337933b2a460"
      },
      "outputs": [
        {
          "output_type": "execute_result",
          "data": {
            "text/plain": [
              "                                                 message  label\n",
              "0      @switchfoot http://twitpic.com/2y1zl - Awww, t...      1\n",
              "1      is upset that he can't update his Facebook by ...      1\n",
              "2      @Kenichan I dived many times for the ball. Man...      1\n",
              "3        my whole body feels itchy and like its on fire       0\n",
              "4      @nationwideclass no, it's not behaving at all....      1\n",
              "...                                                  ...    ...\n",
              "59995  Really wants to go and see 17 again, because Z...      1\n",
              "59996                              @krissa22 Thank you!       1\n",
              "59997                                   dreaming of you       1\n",
              "59998     @TheEllenShow I saw a clip online!  good show!      1\n",
              "59999             @msdivineknight k hun, no worries!  xx      1\n",
              "\n",
              "[60000 rows x 2 columns]"
            ],
            "text/html": [
              "\n",
              "  <div id=\"df-ccb8ef42-6fe4-49fd-86da-d243859e02cf\" class=\"colab-df-container\">\n",
              "    <div>\n",
              "<style scoped>\n",
              "    .dataframe tbody tr th:only-of-type {\n",
              "        vertical-align: middle;\n",
              "    }\n",
              "\n",
              "    .dataframe tbody tr th {\n",
              "        vertical-align: top;\n",
              "    }\n",
              "\n",
              "    .dataframe thead th {\n",
              "        text-align: right;\n",
              "    }\n",
              "</style>\n",
              "<table border=\"1\" class=\"dataframe\">\n",
              "  <thead>\n",
              "    <tr style=\"text-align: right;\">\n",
              "      <th></th>\n",
              "      <th>message</th>\n",
              "      <th>label</th>\n",
              "    </tr>\n",
              "  </thead>\n",
              "  <tbody>\n",
              "    <tr>\n",
              "      <th>0</th>\n",
              "      <td>@switchfoot http://twitpic.com/2y1zl - Awww, t...</td>\n",
              "      <td>1</td>\n",
              "    </tr>\n",
              "    <tr>\n",
              "      <th>1</th>\n",
              "      <td>is upset that he can't update his Facebook by ...</td>\n",
              "      <td>1</td>\n",
              "    </tr>\n",
              "    <tr>\n",
              "      <th>2</th>\n",
              "      <td>@Kenichan I dived many times for the ball. Man...</td>\n",
              "      <td>1</td>\n",
              "    </tr>\n",
              "    <tr>\n",
              "      <th>3</th>\n",
              "      <td>my whole body feels itchy and like its on fire</td>\n",
              "      <td>0</td>\n",
              "    </tr>\n",
              "    <tr>\n",
              "      <th>4</th>\n",
              "      <td>@nationwideclass no, it's not behaving at all....</td>\n",
              "      <td>1</td>\n",
              "    </tr>\n",
              "    <tr>\n",
              "      <th>...</th>\n",
              "      <td>...</td>\n",
              "      <td>...</td>\n",
              "    </tr>\n",
              "    <tr>\n",
              "      <th>59995</th>\n",
              "      <td>Really wants to go and see 17 again, because Z...</td>\n",
              "      <td>1</td>\n",
              "    </tr>\n",
              "    <tr>\n",
              "      <th>59996</th>\n",
              "      <td>@krissa22 Thank you!</td>\n",
              "      <td>1</td>\n",
              "    </tr>\n",
              "    <tr>\n",
              "      <th>59997</th>\n",
              "      <td>dreaming of you</td>\n",
              "      <td>1</td>\n",
              "    </tr>\n",
              "    <tr>\n",
              "      <th>59998</th>\n",
              "      <td>@TheEllenShow I saw a clip online!  good show!</td>\n",
              "      <td>1</td>\n",
              "    </tr>\n",
              "    <tr>\n",
              "      <th>59999</th>\n",
              "      <td>@msdivineknight k hun, no worries!  xx</td>\n",
              "      <td>1</td>\n",
              "    </tr>\n",
              "  </tbody>\n",
              "</table>\n",
              "<p>60000 rows × 2 columns</p>\n",
              "</div>\n",
              "    <div class=\"colab-df-buttons\">\n",
              "\n",
              "  <div class=\"colab-df-container\">\n",
              "    <button class=\"colab-df-convert\" onclick=\"convertToInteractive('df-ccb8ef42-6fe4-49fd-86da-d243859e02cf')\"\n",
              "            title=\"Convert this dataframe to an interactive table.\"\n",
              "            style=\"display:none;\">\n",
              "\n",
              "  <svg xmlns=\"http://www.w3.org/2000/svg\" height=\"24px\" viewBox=\"0 -960 960 960\">\n",
              "    <path d=\"M120-120v-720h720v720H120Zm60-500h600v-160H180v160Zm220 220h160v-160H400v160Zm0 220h160v-160H400v160ZM180-400h160v-160H180v160Zm440 0h160v-160H620v160ZM180-180h160v-160H180v160Zm440 0h160v-160H620v160Z\"/>\n",
              "  </svg>\n",
              "    </button>\n",
              "\n",
              "  <style>\n",
              "    .colab-df-container {\n",
              "      display:flex;\n",
              "      gap: 12px;\n",
              "    }\n",
              "\n",
              "    .colab-df-convert {\n",
              "      background-color: #E8F0FE;\n",
              "      border: none;\n",
              "      border-radius: 50%;\n",
              "      cursor: pointer;\n",
              "      display: none;\n",
              "      fill: #1967D2;\n",
              "      height: 32px;\n",
              "      padding: 0 0 0 0;\n",
              "      width: 32px;\n",
              "    }\n",
              "\n",
              "    .colab-df-convert:hover {\n",
              "      background-color: #E2EBFA;\n",
              "      box-shadow: 0px 1px 2px rgba(60, 64, 67, 0.3), 0px 1px 3px 1px rgba(60, 64, 67, 0.15);\n",
              "      fill: #174EA6;\n",
              "    }\n",
              "\n",
              "    .colab-df-buttons div {\n",
              "      margin-bottom: 4px;\n",
              "    }\n",
              "\n",
              "    [theme=dark] .colab-df-convert {\n",
              "      background-color: #3B4455;\n",
              "      fill: #D2E3FC;\n",
              "    }\n",
              "\n",
              "    [theme=dark] .colab-df-convert:hover {\n",
              "      background-color: #434B5C;\n",
              "      box-shadow: 0px 1px 3px 1px rgba(0, 0, 0, 0.15);\n",
              "      filter: drop-shadow(0px 1px 2px rgba(0, 0, 0, 0.3));\n",
              "      fill: #FFFFFF;\n",
              "    }\n",
              "  </style>\n",
              "\n",
              "    <script>\n",
              "      const buttonEl =\n",
              "        document.querySelector('#df-ccb8ef42-6fe4-49fd-86da-d243859e02cf button.colab-df-convert');\n",
              "      buttonEl.style.display =\n",
              "        google.colab.kernel.accessAllowed ? 'block' : 'none';\n",
              "\n",
              "      async function convertToInteractive(key) {\n",
              "        const element = document.querySelector('#df-ccb8ef42-6fe4-49fd-86da-d243859e02cf');\n",
              "        const dataTable =\n",
              "          await google.colab.kernel.invokeFunction('convertToInteractive',\n",
              "                                                    [key], {});\n",
              "        if (!dataTable) return;\n",
              "\n",
              "        const docLinkHtml = 'Like what you see? Visit the ' +\n",
              "          '<a target=\"_blank\" href=https://colab.research.google.com/notebooks/data_table.ipynb>data table notebook</a>'\n",
              "          + ' to learn more about interactive tables.';\n",
              "        element.innerHTML = '';\n",
              "        dataTable['output_type'] = 'display_data';\n",
              "        await google.colab.output.renderOutput(dataTable, element);\n",
              "        const docLink = document.createElement('div');\n",
              "        docLink.innerHTML = docLinkHtml;\n",
              "        element.appendChild(docLink);\n",
              "      }\n",
              "    </script>\n",
              "  </div>\n",
              "\n",
              "\n",
              "<div id=\"df-1f980830-79a7-4e54-ab70-37f96e09cfe0\">\n",
              "  <button class=\"colab-df-quickchart\" onclick=\"quickchart('df-1f980830-79a7-4e54-ab70-37f96e09cfe0')\"\n",
              "            title=\"Suggest charts\"\n",
              "            style=\"display:none;\">\n",
              "\n",
              "<svg xmlns=\"http://www.w3.org/2000/svg\" height=\"24px\"viewBox=\"0 0 24 24\"\n",
              "     width=\"24px\">\n",
              "    <g>\n",
              "        <path d=\"M19 3H5c-1.1 0-2 .9-2 2v14c0 1.1.9 2 2 2h14c1.1 0 2-.9 2-2V5c0-1.1-.9-2-2-2zM9 17H7v-7h2v7zm4 0h-2V7h2v10zm4 0h-2v-4h2v4z\"/>\n",
              "    </g>\n",
              "</svg>\n",
              "  </button>\n",
              "\n",
              "<style>\n",
              "  .colab-df-quickchart {\n",
              "      --bg-color: #E8F0FE;\n",
              "      --fill-color: #1967D2;\n",
              "      --hover-bg-color: #E2EBFA;\n",
              "      --hover-fill-color: #174EA6;\n",
              "      --disabled-fill-color: #AAA;\n",
              "      --disabled-bg-color: #DDD;\n",
              "  }\n",
              "\n",
              "  [theme=dark] .colab-df-quickchart {\n",
              "      --bg-color: #3B4455;\n",
              "      --fill-color: #D2E3FC;\n",
              "      --hover-bg-color: #434B5C;\n",
              "      --hover-fill-color: #FFFFFF;\n",
              "      --disabled-bg-color: #3B4455;\n",
              "      --disabled-fill-color: #666;\n",
              "  }\n",
              "\n",
              "  .colab-df-quickchart {\n",
              "    background-color: var(--bg-color);\n",
              "    border: none;\n",
              "    border-radius: 50%;\n",
              "    cursor: pointer;\n",
              "    display: none;\n",
              "    fill: var(--fill-color);\n",
              "    height: 32px;\n",
              "    padding: 0;\n",
              "    width: 32px;\n",
              "  }\n",
              "\n",
              "  .colab-df-quickchart:hover {\n",
              "    background-color: var(--hover-bg-color);\n",
              "    box-shadow: 0 1px 2px rgba(60, 64, 67, 0.3), 0 1px 3px 1px rgba(60, 64, 67, 0.15);\n",
              "    fill: var(--button-hover-fill-color);\n",
              "  }\n",
              "\n",
              "  .colab-df-quickchart-complete:disabled,\n",
              "  .colab-df-quickchart-complete:disabled:hover {\n",
              "    background-color: var(--disabled-bg-color);\n",
              "    fill: var(--disabled-fill-color);\n",
              "    box-shadow: none;\n",
              "  }\n",
              "\n",
              "  .colab-df-spinner {\n",
              "    border: 2px solid var(--fill-color);\n",
              "    border-color: transparent;\n",
              "    border-bottom-color: var(--fill-color);\n",
              "    animation:\n",
              "      spin 1s steps(1) infinite;\n",
              "  }\n",
              "\n",
              "  @keyframes spin {\n",
              "    0% {\n",
              "      border-color: transparent;\n",
              "      border-bottom-color: var(--fill-color);\n",
              "      border-left-color: var(--fill-color);\n",
              "    }\n",
              "    20% {\n",
              "      border-color: transparent;\n",
              "      border-left-color: var(--fill-color);\n",
              "      border-top-color: var(--fill-color);\n",
              "    }\n",
              "    30% {\n",
              "      border-color: transparent;\n",
              "      border-left-color: var(--fill-color);\n",
              "      border-top-color: var(--fill-color);\n",
              "      border-right-color: var(--fill-color);\n",
              "    }\n",
              "    40% {\n",
              "      border-color: transparent;\n",
              "      border-right-color: var(--fill-color);\n",
              "      border-top-color: var(--fill-color);\n",
              "    }\n",
              "    60% {\n",
              "      border-color: transparent;\n",
              "      border-right-color: var(--fill-color);\n",
              "    }\n",
              "    80% {\n",
              "      border-color: transparent;\n",
              "      border-right-color: var(--fill-color);\n",
              "      border-bottom-color: var(--fill-color);\n",
              "    }\n",
              "    90% {\n",
              "      border-color: transparent;\n",
              "      border-bottom-color: var(--fill-color);\n",
              "    }\n",
              "  }\n",
              "</style>\n",
              "\n",
              "  <script>\n",
              "    async function quickchart(key) {\n",
              "      const quickchartButtonEl =\n",
              "        document.querySelector('#' + key + ' button');\n",
              "      quickchartButtonEl.disabled = true;  // To prevent multiple clicks.\n",
              "      quickchartButtonEl.classList.add('colab-df-spinner');\n",
              "      try {\n",
              "        const charts = await google.colab.kernel.invokeFunction(\n",
              "            'suggestCharts', [key], {});\n",
              "      } catch (error) {\n",
              "        console.error('Error during call to suggestCharts:', error);\n",
              "      }\n",
              "      quickchartButtonEl.classList.remove('colab-df-spinner');\n",
              "      quickchartButtonEl.classList.add('colab-df-quickchart-complete');\n",
              "    }\n",
              "    (() => {\n",
              "      let quickchartButtonEl =\n",
              "        document.querySelector('#df-1f980830-79a7-4e54-ab70-37f96e09cfe0 button');\n",
              "      quickchartButtonEl.style.display =\n",
              "        google.colab.kernel.accessAllowed ? 'block' : 'none';\n",
              "    })();\n",
              "  </script>\n",
              "</div>\n",
              "\n",
              "  <div id=\"id_2f41de11-e478-4d67-b4ee-4e972336dac7\">\n",
              "    <style>\n",
              "      .colab-df-generate {\n",
              "        background-color: #E8F0FE;\n",
              "        border: none;\n",
              "        border-radius: 50%;\n",
              "        cursor: pointer;\n",
              "        display: none;\n",
              "        fill: #1967D2;\n",
              "        height: 32px;\n",
              "        padding: 0 0 0 0;\n",
              "        width: 32px;\n",
              "      }\n",
              "\n",
              "      .colab-df-generate:hover {\n",
              "        background-color: #E2EBFA;\n",
              "        box-shadow: 0px 1px 2px rgba(60, 64, 67, 0.3), 0px 1px 3px 1px rgba(60, 64, 67, 0.15);\n",
              "        fill: #174EA6;\n",
              "      }\n",
              "\n",
              "      [theme=dark] .colab-df-generate {\n",
              "        background-color: #3B4455;\n",
              "        fill: #D2E3FC;\n",
              "      }\n",
              "\n",
              "      [theme=dark] .colab-df-generate:hover {\n",
              "        background-color: #434B5C;\n",
              "        box-shadow: 0px 1px 3px 1px rgba(0, 0, 0, 0.15);\n",
              "        filter: drop-shadow(0px 1px 2px rgba(0, 0, 0, 0.3));\n",
              "        fill: #FFFFFF;\n",
              "      }\n",
              "    </style>\n",
              "    <button class=\"colab-df-generate\" onclick=\"generateWithVariable('data')\"\n",
              "            title=\"Generate code using this dataframe.\"\n",
              "            style=\"display:none;\">\n",
              "\n",
              "  <svg xmlns=\"http://www.w3.org/2000/svg\" height=\"24px\"viewBox=\"0 0 24 24\"\n",
              "       width=\"24px\">\n",
              "    <path d=\"M7,19H8.4L18.45,9,17,7.55,7,17.6ZM5,21V16.75L18.45,3.32a2,2,0,0,1,2.83,0l1.4,1.43a1.91,1.91,0,0,1,.58,1.4,1.91,1.91,0,0,1-.58,1.4L9.25,21ZM18.45,9,17,7.55Zm-12,3A5.31,5.31,0,0,0,4.9,8.1,5.31,5.31,0,0,0,1,6.5,5.31,5.31,0,0,0,4.9,4.9,5.31,5.31,0,0,0,6.5,1,5.31,5.31,0,0,0,8.1,4.9,5.31,5.31,0,0,0,12,6.5,5.46,5.46,0,0,0,6.5,12Z\"/>\n",
              "  </svg>\n",
              "    </button>\n",
              "    <script>\n",
              "      (() => {\n",
              "      const buttonEl =\n",
              "        document.querySelector('#id_2f41de11-e478-4d67-b4ee-4e972336dac7 button.colab-df-generate');\n",
              "      buttonEl.style.display =\n",
              "        google.colab.kernel.accessAllowed ? 'block' : 'none';\n",
              "\n",
              "      buttonEl.onclick = () => {\n",
              "        google.colab.notebook.generateWithVariable('data');\n",
              "      }\n",
              "      })();\n",
              "    </script>\n",
              "  </div>\n",
              "\n",
              "    </div>\n",
              "  </div>\n"
            ],
            "application/vnd.google.colaboratory.intrinsic+json": {
              "type": "dataframe",
              "variable_name": "data",
              "summary": "{\n  \"name\": \"data\",\n  \"rows\": 60000,\n  \"fields\": [\n    {\n      \"column\": \"message\",\n      \"properties\": {\n        \"dtype\": \"string\",\n        \"num_unique_values\": 59703,\n        \"samples\": [\n          \"I need motivation! \",\n          \"Bom dia  The Colliding Spiral Galaxies of Arp 274 - http://antwrp.gsfc.nasa.gov/apod/ap090407.html\",\n          \"@trizzo83 I've never been &amp; I really want to go now... \"\n        ],\n        \"semantic_type\": \"\",\n        \"description\": \"\"\n      }\n    },\n    {\n      \"column\": \"label\",\n      \"properties\": {\n        \"dtype\": \"number\",\n        \"std\": 0,\n        \"min\": 0,\n        \"max\": 1,\n        \"num_unique_values\": 2,\n        \"samples\": [\n          0,\n          1\n        ],\n        \"semantic_type\": \"\",\n        \"description\": \"\"\n      }\n    }\n  ]\n}"
            }
          },
          "metadata": {},
          "execution_count": 3
        }
      ],
      "source": [
        "data"
      ]
    },
    {
      "cell_type": "code",
      "source": [
        "data[\"label\"].value_counts()"
      ],
      "metadata": {
        "colab": {
          "base_uri": "https://localhost:8080/",
          "height": 178
        },
        "id": "FOL2YlBgqOID",
        "outputId": "42fc9869-9be7-4e23-b7c9-177413195e37"
      },
      "execution_count": 4,
      "outputs": [
        {
          "output_type": "execute_result",
          "data": {
            "text/plain": [
              "label\n",
              "1    53855\n",
              "0     6145\n",
              "Name: count, dtype: int64"
            ],
            "text/html": [
              "<div>\n",
              "<style scoped>\n",
              "    .dataframe tbody tr th:only-of-type {\n",
              "        vertical-align: middle;\n",
              "    }\n",
              "\n",
              "    .dataframe tbody tr th {\n",
              "        vertical-align: top;\n",
              "    }\n",
              "\n",
              "    .dataframe thead th {\n",
              "        text-align: right;\n",
              "    }\n",
              "</style>\n",
              "<table border=\"1\" class=\"dataframe\">\n",
              "  <thead>\n",
              "    <tr style=\"text-align: right;\">\n",
              "      <th></th>\n",
              "      <th>count</th>\n",
              "    </tr>\n",
              "    <tr>\n",
              "      <th>label</th>\n",
              "      <th></th>\n",
              "    </tr>\n",
              "  </thead>\n",
              "  <tbody>\n",
              "    <tr>\n",
              "      <th>1</th>\n",
              "      <td>53855</td>\n",
              "    </tr>\n",
              "    <tr>\n",
              "      <th>0</th>\n",
              "      <td>6145</td>\n",
              "    </tr>\n",
              "  </tbody>\n",
              "</table>\n",
              "</div><br><label><b>dtype:</b> int64</label>"
            ]
          },
          "metadata": {},
          "execution_count": 4
        }
      ]
    },
    {
      "cell_type": "code",
      "execution_count": 5,
      "metadata": {
        "id": "UTAbl2YoCznF"
      },
      "outputs": [],
      "source": [
        "df=data"
      ]
    },
    {
      "cell_type": "markdown",
      "metadata": {
        "id": "aX6PiLCmEbHY"
      },
      "source": [
        "#Impression des tweet qui commence par @, dieze et des sites"
      ]
    },
    {
      "cell_type": "code",
      "execution_count": 6,
      "metadata": {
        "colab": {
          "base_uri": "https://localhost:8080/"
        },
        "id": "DP3RAyrmEqvF",
        "outputId": "b05f5aef-2e07-4310-a2c0-924bd1783811"
      },
      "outputs": [
        {
          "output_type": "stream",
          "name": "stdout",
          "text": [
            "['#itm', '#therapyfail', '#fb', '#TTSC', '#24', '#gayforpeavy', '#FML', '#3', '#camerafail', '#fb', '#travian', '#wow', '#art', '#fail', '#KrispyKreme', '#fb', '#24', '#the', '#twitter', '#fail', '#CNN', '#1', '#Kulula', '#surface', '#c25k', '#drupal', '#epicfail', '#rails', '#mhbigcatch', '#stuckrecord', '#twitteriffic', '#startrek', '#earthquake', '#php', '#poken', '#error', '#tracy', '#fb', '#dwsr', '#Italy', '#Earthquake', '#fantasysurfer', '#titsuptuesday', '#N85', '#heyxboxlive', '#House', '#babypunch', '#cob', '#ticket', '#fb', '#fb', '#terremoto', '#earthquake', '#italy', '#fail', '#itm', '#AutomationAtaCost', '#gsoc', '#rockbox', '#niceweather', '#Berlin', '#goodlife', '#Ambients', '#theinbetweeners', '#Twilight', '#Summers', '#mmuk09', '#i36', '#spotify', '#42', '#fb', '#pman', '#spbpuk', '#dreams', '#dreams', '#dwsr', '#fb', '#wolframalpha', '#search', '#semantic', '#Virgin', '#liquor', '#Easter', '#NAME', '#liquor', '#Easter', '#WCH', '#tired', '#barcodes', '#nickdarcy', '#IgniteCardiff', '#untwitter', '#house', '#fb', '#qt4', '#fb', '#iPhone', '#Chow', '#Mesh09', '#House', '#spbpuk', '#1', '#ottawa', '#Smeeps', '#fb', '#il05', '#walthamstowEMD', '#NAME', '#pawpawty', '#smc_mcr', '#phpnw', '#IVAA09', '#Gmail', '#txdla09', '#f1', '#wowroom', '#Lahore', '#photog', '#5', '#8', '#btv', '#weshareDI', '#bluepeter', '#iTunes', '#new', '#standard', '#high', '#over', '#digital', '#downloads', '#Sad', '#WiiFit', '#fb', '#cricket', '#failwhale', '#Lahore', '#Lahore', '#cloudforce', '#visualforce', '#Spartans', '#msu', '#Heroes', '#2', '#failwhale', '#lol', '#ichc', '#cat', '#frinightfever', '#Angels', '#1', '#ASOT400', '#asot400', '#Tron', '#dubstep', '#howling', '#ASOT400', '#2', '#asot400', '#fb', '#gamearena', '#lost', '#theoffice', '#Dollhouse', '#randomfacts', '#socks', '#wasted', '#drunk', '#plowed', '#hillhouse', '#randomfacts', '#wow', '#asot400', '#sll', '#1', '#susanboyle', '#twunes', '#ufc', '#ipl', '#squirrel', '#Joomla', '#painbuddies', '#macbook', '#bremen', '#fb', '#idiotictwitterapps', '#readathon', '#followfriday', '#asot400', '#PRSANY', '#fb', '#IPL', '#tltsym09', '#IPL', '#fb', '#6', '#maximopark', '#ipl', '#blockparty', '#notacon', '#Phish', '#asot400', '#satchat', '#SXSEMIA', '#F1', '#phillycodecamp', '#tcot', '#campcourage', '#ipl', '#meinVZ', '#NAME', '#ASOT400', '#barcamporlando', '#FifthSummit', '#1', '#asot400', '#coktup', '#ipb', '#stillnotreadyfor100degreeweatherbutluvPhx', '#spectrial', '#whuffie', '#tltsym09', '#webdd', '#autism', '#asd', '#fb', '#SUPA', '#democratic', '#isoj', '#tpb', '#coachella', '#record', '#lcrew', '#nba', '#nbaplayoffs', '#TheAgee5K', '#Flylady', '#fb', '#IPL', '#macbook', '#fifthsummit', '#nufc', '#tuttle', '#readathon', '#RSD09', '#fifthsummit', '#sota09', '#webraising', '#caps', '#capstwackle', '#readathon', '#flylady', '#asot400', '#ASOT400', '#pussycatisland', '#citifield', '#mets', '#brewers', '#fb', '#cubbies', '#asot400', '#asot400', '#16', '#swfoocamp', '#asot400', '#asot400', '#ASOT400', '#asot400', '#asot400', '#asot400', '#asot400', '#asot400', '#NAME', '#2', '#epicfail', '#fb', '#asot400', '#ASOT400', '#TimeWarnerCable', '#pussycatis', '#asot400', '#asot400', '#asot400', '#asot400', '#asot400', '#ASOT400', '#asot400', '#asot400', '#asot4', '#webdd', '#asot400', '#zenjar', '#TweetDeck', '#ASOT400', '#asot400', '#asot400', '#asot400', '#mlbtv', '#fox', '#ASOT400', '#asot400', '#asot400', '#fb', '#asot400', '#asot400', '#asot400', '#asot400', '#fqfest', '#asot400', '#asot400', '#asot400', '#asot400', '#2', '#3', '#5', '#iphone', '#asot400', '#asot400', '#asot400', '#asot400', '#sigh', '#grr', '#asot400', '#RSD09', '#readathon', '#asot400', '#CBJ', '#herebeforeoprah', '#ASOT400', '#asot400', '#of', '#following', '#UFC97', '#orthodoxEaster', '#asot400', '#ASOT400', '#couchsurfing', '#fb', '#asot400', '#asot400', '#asot400', '#ASOT400', '#ASOT400', '#ASOT400', '#ASOT400', '#ahbl', '#asot400', '#readathon', '#geekmeet', '#travis', '#asot400', '#fb', '#inlineslalom', '#indonesia', '#barcamphanoi', '#readathon', '#nedfail', '#readathon', '#brotherblues', '#cocktup', '#UFC', '#nascar', '#wow', '#hotstreak', '#cursegaming', '#wow', '#whataburger', '#uprise', '#readathon', '#1', '#SATO48', '#asot400', '#ASOT400', '#imbot', '#ASOT400', '#GoW2', '#readathon', '#ufc97', '#f1', '#asot400', '#barcampevn09', '#Batman', '#asot400', '#jogging', '#1', '#asot400', '#conservation', '#tfe', '#Twitterwhore', '#asot400', '#1', '#copyediting', '#asot400', '#readathon', '#F1', '#F1', '#f1', '#F1', '#F1', '#asot400', '#f1', '#f1', '#F1', '#f1', '#pussycatisland', '#woot', '#F1', '#F1', '#F1', '#firebug', '#twitter', '#pussycatisland', '#bmwsauber', '#f1', '#asot400', '#f1', '#F1', '#FelipeBaby', '#f1', '#f1', '#f1', '#1', '#asot400', '#quote', '#win', '#f1', '#hac5', '#asot400', '#F1', '#F1', '#asot400', '#F1', '#g20', '#bakeoff', '#thedead', '#buffalo', '#asot400', '#f1', '#asot400', '#f1', '#f1', '#asot400', '#f1', '#anagramsunday', '#asot400', '#14', '#groezrock', '#F1', '#asot400', '#roosters', '#nrl', '#asot400', '#F1', '#f1', '#f1', '#asot400', '#bakeoff', '#the', '#asot400', '#asot400', '#f1', '#android', '#asot400', '#asot400', '#f1', '#BSG', '#bluray', '#barcamphanoi', '#pussycatisland', '#asot400', '#accidentshappen', '#formula1', '#asot400', '#yaymen', '#pussycatisland', '#pussycatisland', '#indiavotes09', '#asot400', '#Zoesparty', '#dateline', '#barcampbkk3', '#barcampbkk3', '#iLiad', '#fail', '#WEP128', '#asot400', '#asot400', '#wififail', '#asot400', '#amazonfail', '#Dogma', '#asot400', '#mom', '#eee', '#f1', '#GrandEastAngliaRun', '#Google', '#iPhone', '#indiavotes09', '#asot400', '#chickintrain', '#asot400', '#pussycatisland', '#Poken', '#pussycatisland', '#deonandan', '#789', '#jax09', '#Spurs', '#Championship', '#nufc', '#asot400', '#fail', '#ipl', '#dogwalkers', '#asot400', '#ASOT400', '#asot400', '#king', '#ASOT400', '#ASOT400', '#Kaspa85', '#asot400', '#asot400', '#robie', '#robiecreek', '#barcamphanoi', '#campello', '#alicante', '#costadelsol', '#spain', '#asot400', '#asot400', '#skaterhockey', '#asot400', '#vconqr', '#ASOT400', '#asot400', '#asot400', '#asot400', '#waketraining', '#german', '#french', '#IPL', '#TYLER', '#asot400', '#Kings', '#fml', '#asot400', '#asot400', '#bigdealmoms', '#asot400', '#3YP', '#pussycatisland', '#skydive', '#gadgetshowlive', '#coldremedy', '#3', '#qgoogle', '#asot400', '#f1', '#2', '#3', '#asot400', '#F1', '#ferrari', '#FAIL', '#ipl09', '#ipl', '#ipl09', '#ipl', '#lastmasters', '#aacr', '#NAME', '#Chicago', '#ipl', '#arrivatrainswales', '#fb', '#Karunanidhi', '#Prabhakaran', '#mw2', '#NHLtweetup', '#genealogy', '#asot400', '#ILHM', '#Canucks', '#progrock', '#Tweetdeck', '#GamePorts', '#ASOT400', '#asot400', '#policestate', '#asot400', '#otalia', '#ASOT400', '#ManU', '#Berbatov', '#zenjar', '#113', '#NAME', '#Indycar', '#iPhone', '#mpsexpenses', '#dispatches', '#asot400', '#asot400', '#asot400', '#wordpress', '#blog', '#asot400', '#github', '#Wolves', '#asot400', '#asot400', '#asot400', '#Coachella', '#asot400', '#asot400', '#asot400', '#asot400', '#ASOT400', '#tags', '#Mets', '#skeptwiit', '#overload', '#1', '#Moab', '#India', '#Orissa', '#News', '#weekend', '#work', '#sad', '#malwarebytes', '#taekwondo', '#Devunity', '#Alexa', '#Japan', '#Skype', '#expletives', '#musicmonday', '#Chuck', '#nightcard', '#Paragon', '#dogs', '#24', '#Baumarkt', '#Baumarkt', '#Vegas', '#1liners', '#hhrs', '#blib', '#nbn', '#tlot', '#blib', '#bumptop', '#girlguidecookies', '#NRU', '#castle', '#Gratitude', '#triathlon', '#s', '#startrekmovie', '#worldprayer', '#wbc2', '#PHP', '#canucks', '#blib', '#gotmilk', '#Mariners', '#Trek', '#rofl', '#openingday', '#kfanyc', '#SF', '#4', '#1', '#2', '#house', '#Sci', '#iphone', '#spotify', '#STAtravel', '#wv09', '#webvisions', '#openaustralia', '#publicwhip', '#AdTech', '#bludget', '#B09', '#30da', '#TheGadgetShow', '#gmail', '#Heroes', '#Royksopp', '#Swedish', '#Russian', '#avatar', '#4', '#mef', '#1', '#bpark', '#Cloudforce', '#datajourn', '#mmuk09', '#bus', '#videoTLV', '#business', '#fb', '#theBarn', '#design', '#dogtraders', '#claritylive', '#iloveyou', '#heyxboxlive', '#2', '#spbpuk', '#twinelis', '#katesparty', '#totd', '#kidscleaning', '#discount', '#politikana', '#retweet', '#pinkchaddi', '#rockbox', '#maynotbetrue', '#easyFind', '#tcot', '#song', '#video', '#followfriday', '#galvinstwitpic', '#cloudforce', '#Speed', '#gotthingsdone', '#365Songs', '#1', '#scriptfrenzy', '#quote', '#gratitude', '#quote', '#cloudforce', '#IgniteCardiff', '#spbpc', '#spbpuk', '#Drupal', '#WordPress', '#IgniteCardiff', '#fb', '#spbpc', '#spbpuk', '#optusisntthatbad', '#TFComp', '#Adtech_paris', '#Swancon', '#chi09', '#processwork', '#masters', '#trancetuesday', '#trance', '#cloudforce', '#9', '#4', '#REBCPHL', '#Aylesbury', '#Audi', '#childfree', '#1', '#fb', '#widc', '#followfriday', '#Canucks', '#dream', '#ultra', '#NAME', '#1', '#5', '#19', '#homeindia', '#mssurface', '#followfriday', '#twittypop', '#cochin', '#linux', '#GNOME', '#gwibber', '#mw2', '#lingerie', '#tfc', '#2', '#E71', '#mmuk09', '#destroytwitter', '#mesh09', '#arduino', '#Mobile', '#BTB09', '#SharePoint', '#spbpuk', '#house', '#meowmonday', '#JobAngels', '#cloudforce', '#Livemercial', '#habs', '#mesh09', '#hotties', '#cflsc1', '#spbpuk', '#iPhone', '#IndiaVotes09', '#IndiaVotes09', '#jazz101', '#humor', '#comedy', '#mesh09', '#31DBBB', '#kiwitweets', '#inspire', '#140conf', '#bludget', '#budget09', '#IVAA09', '#myonid', '#mightbuyit', '#goodservice', '#oib', '#mmuk09', '#IMSB', '#3', '#415', '#fistbump', '#awi', '#adventureland', '#HPPIE', '#5', '#shavam', '#goodnight', '#goodmorning', '#contentstrategy', '#RSF', '#RSF09', '#RAW', '#HEALTH', '#tcot', '#marketplace', '#tweepletuesday', '#followfriday', '#fivesimplesteps', '#1', '#co', '#pointofsale', '#Jobs', '#Copywriting', '#SEO', '#digiscrap', '#BigOmaha', '#Positive', '#qm09', '#mmuk09', '#ING', '#DestroyTwitter', '#Tweetdeck', '#twitter', '#Macworld', '#free', '#mwsf10', '#muhahaha', '#technologyfail', '#Heroes', '#fb', '#1', '#godawgsthereisalwaysfootballseason', '#bludget', '#twittertourney', '#SM4SCNYC', '#pdxmeetup', '#FollowFriday', '#MayBlowYOURMind', '#PlaysWithGunsAndBIGTrucks', '#ASOT400', '#LOA', '#followfriday', '#kmnr', '#twtfm', '#ASOT400', '#followfriday', '#F1', '#2', '#Tweetie', '#nerd', '#asot400', '#ASOT400', '#ipl', '#cellophanenoodles', '#fb', '#asot400', '#asot400', '#TRS', '#asot400', '#followFriday', '#followfriday', '#followfriday', '#followfriday', '#asot400', '#500', '#asot400', '#followfriday', '#asot400', '#t3con09', '#poetry', '#followfriday', '#asot400', '#renoaces', '#fuckyoufriday', '#followfriday', '#followfriday', '#Canucks', '#asot400', '#13', '#canucks', '#yaymen', '#followfriday', '#fb', '#IPL', '#followfriday', '#forestgarden', '#readathon', '#twitterena', '#habs', '#iloveyou', '#barcampca09', '#pussycatisland', '#asot400', '#metanoiacafe', '#barcampevn09', '#readathon', '#followfriday', '#TwitterFonPwns', '#asot400', '#6', '#readathon', '#ASOT400', '#ASOT400', '#followfriday', '#nocoffeeorshoppingnekkid', '#haiku', '#Depression', '#Therapie', '#ASOT400', '#twitter', '#news', '#socialmedia', '#tcot', '#business', '#web', '#text', '#follow', '#tweet', '#Polaroid', '#barcamporlando', '#readathon', '#fb', '#followfriday', '#ASOT400', '#3', '#followfriday', '#rugby', '#FF', '#smcsea', '#followfriday', '#sheepstacker', '#cloudcamp', '#readathon', '#suckupsaturday', '#celtic', '#2', '#barcamporlando', '#urekaweekend', '#satchat', '#ASOT400', '#fb', '#fb', '#ASOT400', '#TABJ', '#isoj', '#edupunk', '#kids', '#InDesign', '#hhrs', '#tcot', '#hcb', '#fb', '#swfoo', '#fb', '#ASOT400', '#notacon', '#asot400', '#canon', '#hf10', '#passportfail', '#asot400', '#1', '#readathon', '#fb', '#Arsenal', '#anorak', '#waitwait', '#SeedsCANCAFF', '#tpb', '#piedmontpark', '#asot400', '#lava', '#iloveyou', '#2000', '#followfriday', '#ec09', '#FollowSaturday', '#fringe', '#crochet', '#Orangeflowers', '#asot400', '#jazz', '#o', '#helpmedecide', '#fetchmp3', '#music', '#mp3', '#flylady', '#twitterfood', '#followfriday', '#60', '#transcoding', '#nab09', '#playadelcarmen', '#tcot', '#followsaturday', '#bsg', '#Rangers', '#wkendthx', '#bcstv', '#ff', '#asot400', '#asot400', '#Malaysia', '#asot400', '#cpfc', '#fb', '#asot400', '#mgws', '#satchat', '#asot400', '#bacon', '#39', '#ASOT', '#slc', '#asot400', '#ASOT400', '#juventus', '#PeopleFinder', '#STLMossCamp', '#followfriday', '#Marley', '#asot400', '#SUPA', '#asot400', '#MadMen', '#idol', '#PhilipGlass', '#asot400', '#ASOT400', '#asot400', '#win7', '#readathon', '#60', '#unschooling', '#blockparty', '#asot400', '#ASOT400', '#ASOT400', '#ASOT400', '#readathon', '#asot400', '#asot400', '#earthday', '#pizza', '#woohoo', '#MadMen', '#MuchLove', '#tmmm', '#ASOT400', '#film_club', '#300', '#groban', '#asot400', '#del', '#susanboyle', '#asot400', '#asot400', '#film_club', '#fb', '#ASOT400', '#SGP', '#teaparty', '#tcot', '#asot400', '#asot400', '#hypercube', '#drunksaturday', '#vegas', '#3', '#ASOT400', '#Followfriday', '#bhb', '#Sprint', '#ASOT400', '#1mom12boys', '#happybirthday', '#asot400', '#asot400', '#vw', '#asot400', '#WoW', '#RE5', '#ttl', '#frumpyman', '#zenjar', '#ahbl', '#asot400', '#NASCAR', '#asot400', '#2', '#asot400', '#asot400', '#asot400', '#melo', '#1', '#asot400', '#LAX', '#trying', '#asot400', '#lupus', '#followfriday', '#blackhawks', '#ASOT400', '#NASCAR', '#xlnation', '#asot400', '#ASOT400', '#Maddie', '#asot400', '#clematis', '#goober', '#fitness', '#zenjar', '#3', '#asot400', '#asot400', '#coktup', '#ASOT400', '#asot400', '#2', '#asot400', '#FollowFriday', '#ASOT400', '#ASOT400', '#twitter', '#app', '#mostperfectpopsong', '#ASOT400', '#fitness', '#gratitude', '#twitter', '#facebook', '#asot400', '#MarchOnWA', '#herebeforeoprah', '#Microsoft', '#Windows7', '#RC', '#asot400', '#aguywhoknowsaguy', '#Abq', '#NM', '#NMtweetup', '#matchmaker', '#asot400', '#ASOT400', '#twittersex', '#xbm', '#tweetie', '#barcamphanoi', '#ahbl', '#viccek', '#coktup', '#BostonGlobe', '#ASOT400', '#dfvp', '#12for12ksd', '#dfvp', '#ykyat', '#gnonyc', '#baby', '#asot400', '#asot400', '#asot400', '#Yankees', '#Indians', '#tcot', '#readathon', '#fb', '#abhl', '#hhrs', '#f1', '#partners09', '#TweetBunchNZ', '#skeptwiit', '#skeptwiit', '#postrank', '#crafts', '#TweetlancersCV', '#wrongagain', '#barcamphanoi', '#asot400', '#TheAgee5k', '#asot400', '#f1', '#ASOT400', '#empsfpopconf', '#F1', '#EduCamp', '#TheRoovers', '#ec09', '#coachella', '#silampari', '#bogor', '#snl', '#readathon', '#readathon', '#F1', '#f1', '#ASOT400', '#ASOT400', '#ASOT400', '#happysunday', '#Slumdog', '#Tunes', '#97', '#f1', '#confused', '#pandora_radio', '#asot400', '#pussycatisland', '#f1', '#f1', '#formula1', '#1', '#F1', '#F1', '#asot400', '#f1', '#FF', '#F1', '#skeptwiit', '#f1', '#geekmeet', '#F1', '#FollowFriday', '#f1', '#f1', '#asot400', '#followfriday', '#followsprout', '#GP', '#tcot', '#Nicoletta', '#asot400', '#health', '#sproutamillion', '#asot400', '#asot400', '#followsprout', '#f1', '#asot400', '#f1', '#tcot', '#formula1', '#f1', '#gadgetshowlive', '#cameraphone', '#Razuna', '#followfriday', '#supersunday', '#caca', '#asot400', '#TweetBunchNZ', '#pussycatisland', '#MerrieMonarch', '#asot400', '#drums', '#IPL', '#Nespresso', '#asot400', '#F1', '#ASOT400', '#asot400', '#f1', '#followfriday', '#asot400', '#aplm', '#asot400', '#webpm', '#pmot', '#fb', '#gadgetshowlive', '#taichijoke', '#asot400', '#ChildhoodScarsMuch', '#ASOT400', '#F1', '#f1', '#F1', '#fb', '#formula1', '#f1', '#asot400', '#sproutamillion', '#F1', '#f1', '#f1', '#F1', '#asot400', '#F1', '#followfridayonsundayinstead', '#asot400', '#yaymen', '#gadgetshowlive', '#asot400', '#TweetBunchNZ', '#gadgetshowlive', '#mw2', '#asot400', '#Beer', '#asot400', '#F1', '#pussycatisland', '#barcamphanoi', '#beercamp', '#f1', '#fb', '#asot400', '#345', '#asot400', '#f1', '#yaymen', '#ASOT400', '#asot400', '#asot400', '#f1', '#web20']\n"
          ]
        }
      ],
      "source": [
        "# Fonction pour extraire les mots qui commencent par \"#\"\n",
        "def extract_mentions(phrase):\n",
        "    return re.findall(r'#\\w+', phrase)\n",
        "\n",
        "df['mentions_dieze'] = df['message'].apply(extract_mentions)\n",
        "all_mentions = df['mentions_dieze'].sum()\n",
        "print(all_mentions)"
      ]
    },
    {
      "cell_type": "code",
      "execution_count": null,
      "metadata": {
        "id": "ZtLr9XyRCxAn"
      },
      "outputs": [],
      "source": [
        "# Fonction pour extraire les mots qui commencent par \"@\"\n",
        "def extract_mentions(phrase):\n",
        "    return re.findall(r'@\\w+', phrase)\n",
        "\n",
        "df['mentions'] = df['message'].apply(extract_mentions)\n",
        "all_mentions = df['mentions'].sum()\n",
        "print(all_mentions)"
      ]
    },
    {
      "cell_type": "code",
      "execution_count": null,
      "metadata": {
        "id": "F9Ijovs5DUOt"
      },
      "outputs": [],
      "source": [
        "\n",
        "# Fonction pour extraire les URLs\n",
        "def extract_urls(phrase):\n",
        "    # Expression régulière pour capturer les URLs\n",
        "    url_pattern = r'(https?://[^\\s]+|www\\.[^\\s]+)'\n",
        "    return re.findall(url_pattern, phrase)\n",
        "\n",
        "df['urls'] = df['message'].apply(extract_urls)\n",
        "all_urls = df['urls'].sum()\n",
        "\n",
        "print(all_urls)\n"
      ]
    },
    {
      "cell_type": "code",
      "execution_count": null,
      "metadata": {
        "id": "XBeM8qUy-Aq5"
      },
      "outputs": [],
      "source": [
        "df"
      ]
    },
    {
      "cell_type": "markdown",
      "metadata": {
        "id": "FssvWb9hElIY"
      },
      "source": [
        "#Supression des mots commencant par @ , dieze  et les sites"
      ]
    },
    {
      "cell_type": "code",
      "execution_count": null,
      "metadata": {
        "id": "MtqOYTHdEFV1"
      },
      "outputs": [],
      "source": [
        "import re\n",
        "\n",
        "# Fonction pour supprimer les mots qui commencent par \"@\" et les sites web\n",
        "def remove_mentions_urls_hashtags(phrase):\n",
        "    # Expression régulière pour les mots commençant par \"@\"\n",
        "    mention_pattern = r'@\\w+'\n",
        "    # Expression régulière pour les mots commençant par \"#\"\n",
        "    hashtag_pattern = r'#\\w+'\n",
        "    # Expression régulière pour les URLs\n",
        "    url_pattern = r'(https?://[^\\s]+|www\\.[^\\s]+)'\n",
        "    clean_phrase = re.sub(f'{mention_pattern}|{hashtag_pattern}|{url_pattern}', '', phrase)\n",
        "    return ' '.join(clean_phrase.split())\n",
        "\n",
        "\n",
        "df['clean_phrases'] = df['message'].apply(remove_mentions_urls_hashtags)"
      ]
    },
    {
      "cell_type": "code",
      "execution_count": null,
      "metadata": {
        "id": "-ZF-uW7WEQEZ"
      },
      "outputs": [],
      "source": [
        "df"
      ]
    },
    {
      "cell_type": "code",
      "execution_count": null,
      "metadata": {
        "id": "iorieTrXGbif"
      },
      "outputs": [],
      "source": [
        "data=df"
      ]
    },
    {
      "cell_type": "markdown",
      "metadata": {
        "id": "plEQUBxeNu8U"
      },
      "source": [
        "#Suprimmer les ponctuation"
      ]
    },
    {
      "cell_type": "code",
      "execution_count": null,
      "metadata": {
        "id": "0zFrQ6-SNkDB"
      },
      "outputs": [],
      "source": [
        "import string\n",
        "string.punctuation"
      ]
    },
    {
      "cell_type": "code",
      "execution_count": null,
      "metadata": {
        "id": "R4q3YFjzNj_m"
      },
      "outputs": [],
      "source": [
        "def Remove_Punctuation(text):\n",
        "    result = \"\".join([ch for ch in text if ch not in string.punctuation])\n",
        "    return result\n",
        "\n",
        "data['Content_clean'] = data['clean_phrases'].apply(lambda x: Remove_Punctuation(x))\n",
        "\n",
        "data.head()"
      ]
    },
    {
      "cell_type": "markdown",
      "metadata": {
        "id": "HQN6UoyRODn7"
      },
      "source": [
        "#Tokenization"
      ]
    },
    {
      "cell_type": "code",
      "execution_count": null,
      "metadata": {
        "id": "AIaH-M9aNj8f"
      },
      "outputs": [],
      "source": [
        "import re\n",
        "def tokenizer(text):\n",
        "    words = re.split('\\W+', text)\n",
        "    return words\n",
        "\n",
        "data['Content_tokenized'] = data['Content_clean'].apply(lambda x: tokenizer(x.lower()))\n",
        "\n",
        "data.head()"
      ]
    },
    {
      "cell_type": "markdown",
      "metadata": {
        "id": "CfGpx15iOamN"
      },
      "source": [
        "#Supprimer les stopword"
      ]
    },
    {
      "cell_type": "code",
      "execution_count": null,
      "metadata": {
        "id": "7gLK9vo-SB3X"
      },
      "outputs": [],
      "source": [
        "import nltk\n",
        "from nltk.corpus import stopwords\n",
        "\n",
        "# Télécharger les stopwords\n",
        "nltk.download('stopwords')\n",
        "\n",
        "# Charger les stopwords en anglais\n",
        "en_stopwords = set(stopwords.words('english'))\n",
        "print(en_stopwords)"
      ]
    },
    {
      "cell_type": "code",
      "execution_count": null,
      "metadata": {
        "id": "EHN1PpfhVA5-"
      },
      "outputs": [],
      "source": [
        "def Remove_Stopwords(content_list):\n",
        "    result = [word for word in content_list if word not in en_stopwords]\n",
        "    return result\n",
        "\n",
        "data['Content_NO_Stopwords'] = data['Content_tokenized'].apply(lambda x: Remove_Stopwords(x))\n",
        "\n",
        "data.head()"
      ]
    },
    {
      "cell_type": "markdown",
      "metadata": {
        "id": "vKir6TcEQb2S"
      },
      "source": [
        "#Lemmatisation"
      ]
    },
    {
      "cell_type": "code",
      "execution_count": null,
      "metadata": {
        "id": "xkBOvszhSyNJ"
      },
      "outputs": [],
      "source": [
        "nltk.download('wordnet')\n",
        "wn = nltk.WordNetLemmatizer()\n"
      ]
    },
    {
      "cell_type": "code",
      "execution_count": null,
      "metadata": {
        "id": "LLiv3us-Qa-M"
      },
      "outputs": [],
      "source": [
        "def lemmatizing(words):\n",
        "    result = [wn.lemmatize(word) for word in words]\n",
        "    return result\n",
        "\n",
        "data['Content_lemmatized'] = data['Content_NO_Stopwords'].apply(lambda x: lemmatizing(x))\n",
        "\n",
        "data.head(10)"
      ]
    },
    {
      "cell_type": "markdown",
      "metadata": {
        "id": "zfljH0SCXD_G"
      },
      "source": [
        "#Classification"
      ]
    },
    {
      "cell_type": "code",
      "execution_count": null,
      "metadata": {
        "id": "MrmGOdEeXLnH"
      },
      "outputs": [],
      "source": [
        "from sklearn.feature_extraction.text import CountVectorizer, TfidfTransformer\n",
        "from sklearn.naive_bayes import MultinomialNB\n",
        "from sklearn import metrics"
      ]
    },
    {
      "cell_type": "code",
      "execution_count": null,
      "metadata": {
        "id": "T0r6MSVbQa78"
      },
      "outputs": [],
      "source": [
        "# 3. Split train-test\n",
        "X_train, X_test, y_train, y_test = train_test_split(data['Content_lemmatized'], data['label'], test_size=0.2, random_state=42)\n",
        "X_train = [' '.join(tokens) for tokens in X_train]\n",
        "X_test = [' '.join(tokens) for tokens in X_test]"
      ]
    },
    {
      "cell_type": "code",
      "execution_count": null,
      "metadata": {
        "id": "fsXuurUTVXQp"
      },
      "outputs": [],
      "source": [
        "count_vect=CountVectorizer()\n",
        "X_train_counts=count_vect.fit_transform(X_train)\n",
        "X_test_counts=count_vect.transform(X_test)\n",
        "X_train_counts.shape\n"
      ]
    },
    {
      "cell_type": "code",
      "execution_count": null,
      "metadata": {
        "id": "mTRGPjEzXWlT"
      },
      "outputs": [],
      "source": [
        "X_train"
      ]
    },
    {
      "cell_type": "code",
      "execution_count": null,
      "metadata": {
        "id": "zaNp7qR1WKxQ"
      },
      "outputs": [],
      "source": [
        "tfidf_tranformer = TfidfTransformer()\n",
        "X_train_tfidf = tfidf_tranformer.fit_transform(X_train_counts)\n",
        "X_test_tfidf = tfidf_tranformer.transform(X_test_counts)"
      ]
    },
    {
      "cell_type": "code",
      "execution_count": null,
      "metadata": {
        "id": "pbPFU6XOYebF"
      },
      "outputs": [],
      "source": [
        "clf=MultinomialNB().fit(X_train_tfidf,y_train)"
      ]
    },
    {
      "cell_type": "code",
      "execution_count": null,
      "metadata": {
        "id": "_Lw0x2ozYeXs"
      },
      "outputs": [],
      "source": [
        "y_pred=clf.predict(X_test_tfidf)"
      ]
    },
    {
      "cell_type": "code",
      "execution_count": null,
      "metadata": {
        "id": "h2GdfFb6YeVJ"
      },
      "outputs": [],
      "source": [
        "print(metrics.classification_report(y_test,y_pred))#}, target_names=target_names))\n",
        "print(metrics.confusion_matrix(y_test,y_pred))"
      ]
    },
    {
      "cell_type": "code",
      "execution_count": null,
      "metadata": {
        "id": "ruPEDu08a5BI"
      },
      "outputs": [],
      "source": [
        "from sklearn.pipeline import Pipeline\n",
        "from sklearn.feature_extraction.text import CountVectorizer, TfidfTransformer\n",
        "from sklearn.linear_model import SGDClassifier"
      ]
    },
    {
      "cell_type": "code",
      "execution_count": null,
      "metadata": {
        "id": "vUzOFbDEa2Q7"
      },
      "outputs": [],
      "source": [
        "text_clf = Pipeline([('vect', CountVectorizer()),\n",
        "                     ('tfidf', TfidfTransformer()),\n",
        "                     ('clf', SGDClassifier(tol=None, n_jobs=-1))]).fit(X_train, y_train)"
      ]
    },
    {
      "cell_type": "code",
      "execution_count": null,
      "metadata": {
        "id": "XTubaU_pbPNa"
      },
      "outputs": [],
      "source": [
        "y_pred=text_clf.predict(X_test)\n",
        "print(metrics.classification_report(y_test,y_pred))#}, target_names=target_names))\n",
        "print(metrics.confusion_matrix(y_test,y_pred))"
      ]
    }
  ],
  "metadata": {
    "colab": {
      "provenance": []
    },
    "kernelspec": {
      "display_name": "Python 3",
      "name": "python3"
    },
    "language_info": {
      "name": "python"
    }
  },
  "nbformat": 4,
  "nbformat_minor": 0
}